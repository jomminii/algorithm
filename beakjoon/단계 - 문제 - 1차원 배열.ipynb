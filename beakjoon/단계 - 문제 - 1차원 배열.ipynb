{
 "cells": [
  {
   "cell_type": "code",
   "execution_count": 4,
   "metadata": {},
   "outputs": [
    {
     "name": "stdout",
     "output_type": "stream",
     "text": [
      "5\n",
      "20 10 35 30 7\n",
      "7 35\n"
     ]
    }
   ],
   "source": [
    "# 10818 최소, 최대\n",
    "n = int(input())\n",
    "li = list(map(int, input().split()))\n",
    "# print(min(li), max(li))\n",
    "minNum = li[0]\n",
    "maxNum = li[0]\n",
    "for i in range(n):\n",
    "    if li[i] > maxNum:\n",
    "        maxNum = li[i]\n",
    "    if li[i] < minNum:\n",
    "        minNum = li[i]\n",
    "print(minNum, maxNum)  "
   ]
  },
  {
   "cell_type": "code",
   "execution_count": 11,
   "metadata": {},
   "outputs": [
    {
     "data": {
      "text/plain": [
       "(0, 1, 2, 1)"
      ]
     },
     "execution_count": 11,
     "metadata": {},
     "output_type": "execute_result"
    }
   ],
   "source": [
    "*range(3),1"
   ]
  },
  {
   "cell_type": "code",
   "execution_count": 17,
   "metadata": {},
   "outputs": [
    {
     "name": "stdout",
     "output_type": "stream",
     "text": [
      "3\n",
      "29\n",
      "38\n",
      "12\n",
      "57\n",
      "74\n",
      "40\n",
      "85\n",
      "61\n",
      "85 \n",
      " 8\n"
     ]
    }
   ],
   "source": [
    "# 2562 최댓값\n",
    "\n",
    "#1 매번 확인\n",
    "maxNum = 1\n",
    "maxOrder = 1\n",
    "\n",
    "for i in range(1,10):\n",
    "    n = int(input())\n",
    "    if n > maxNum:\n",
    "        maxNum = n\n",
    "        maxOrder = i\n",
    "print(maxNum)\n",
    "print(maxOrder)\n"
   ]
  },
  {
   "cell_type": "code",
   "execution_count": 18,
   "metadata": {},
   "outputs": [
    {
     "name": "stdout",
     "output_type": "stream",
     "text": [
      "3\n",
      "29\n",
      "38\n",
      "12\n",
      "57\n",
      "74\n",
      "40\n",
      "85\n",
      "61\n",
      "85 \n",
      " 8\n"
     ]
    }
   ],
   "source": [
    "#2 list 로 모은다음에 sorted 로 정렬\n",
    "\n",
    "li = []\n",
    "for i in range(1,10):\n",
    "    li.append((int(input()), i))\n",
    "sorted_li = sorted(li, key=lambda number: number[0])\n",
    "print(sorted_li[-1][0])\n",
    "print(sorted_li[-1][1])\n",
    "\n",
    "\n",
    "\n",
    "\n",
    "\n",
    "\n",
    "\n",
    "\n"
   ]
  },
  {
   "cell_type": "code",
   "execution_count": 22,
   "metadata": {},
   "outputs": [
    {
     "name": "stdout",
     "output_type": "stream",
     "text": [
      "3\n",
      "29\n",
      "38\n",
      "12\n",
      "57\n",
      "74\n",
      "40\n",
      "85\n",
      "61\n",
      "85 8\n"
     ]
    }
   ],
   "source": [
    "l = [int(input()) for i in range(9)]\n",
    "print(max(l), l.index(max(l))+1)"
   ]
  },
  {
   "cell_type": "code",
   "execution_count": 30,
   "metadata": {},
   "outputs": [
    {
     "name": "stdout",
     "output_type": "stream",
     "text": [
      "150\n",
      "266\n",
      "427\n",
      "3\n",
      "1\n",
      "0\n",
      "2\n",
      "0\n",
      "0\n",
      "0\n",
      "2\n",
      "0\n",
      "0\n"
     ]
    }
   ],
   "source": [
    "# 2577 숫자의 개수\n",
    "a = int(input())\n",
    "b = int(input())\n",
    "c = int(input())\n",
    "\n",
    "result = str(a*b*c)\n",
    "for i in range(10):\n",
    "    print(result.count(str(i)))\n",
    "\n",
    "\n",
    "\n",
    "\n",
    "\n",
    "\n",
    "\n"
   ]
  },
  {
   "cell_type": "code",
   "execution_count": 26,
   "metadata": {},
   "outputs": [
    {
     "data": {
      "text/plain": [
       "0"
      ]
     },
     "execution_count": 26,
     "metadata": {},
     "output_type": "execute_result"
    }
   ],
   "source": [
    "sam = '17037300'\n",
    "\n",
    "sam.count('4')"
   ]
  },
  {
   "cell_type": "code",
   "execution_count": null,
   "metadata": {},
   "outputs": [],
   "source": []
  }
 ],
 "metadata": {
  "kernelspec": {
   "display_name": "Python 3",
   "language": "python",
   "name": "python3"
  },
  "language_info": {
   "codemirror_mode": {
    "name": "ipython",
    "version": 3
   },
   "file_extension": ".py",
   "mimetype": "text/x-python",
   "name": "python",
   "nbconvert_exporter": "python",
   "pygments_lexer": "ipython3",
   "version": "3.7.8"
  }
 },
 "nbformat": 4,
 "nbformat_minor": 4
}
