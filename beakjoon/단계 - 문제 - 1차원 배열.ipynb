{
 "cells": [
  {
   "cell_type": "code",
   "execution_count": 4,
   "metadata": {},
   "outputs": [
    {
     "name": "stdout",
     "output_type": "stream",
     "text": [
      "5\n",
      "20 10 35 30 7\n",
      "7 35\n"
     ]
    }
   ],
   "source": [
    "# 10818 최소, 최대\n",
    "n = int(input())\n",
    "li = list(map(int, input().split()))\n",
    "# print(min(li), max(li))\n",
    "minNum = li[0]\n",
    "maxNum = li[0]\n",
    "for i in range(n):\n",
    "    if li[i] > maxNum:\n",
    "        maxNum = li[i]\n",
    "    if li[i] < minNum:\n",
    "        minNum = li[i]\n",
    "print(minNum, maxNum)  "
   ]
  },
  {
   "cell_type": "code",
   "execution_count": 11,
   "metadata": {},
   "outputs": [
    {
     "data": {
      "text/plain": [
       "(0, 1, 2, 1)"
      ]
     },
     "execution_count": 11,
     "metadata": {},
     "output_type": "execute_result"
    }
   ],
   "source": [
    "*range(3),1"
   ]
  },
  {
   "cell_type": "code",
   "execution_count": 17,
   "metadata": {},
   "outputs": [
    {
     "name": "stdout",
     "output_type": "stream",
     "text": [
      "3\n",
      "29\n",
      "38\n",
      "12\n",
      "57\n",
      "74\n",
      "40\n",
      "85\n",
      "61\n",
      "85 \n",
      " 8\n"
     ]
    }
   ],
   "source": [
    "# 2562 최댓값\n",
    "\n",
    "#1 매번 확인\n",
    "maxNum = 1\n",
    "maxOrder = 1\n",
    "\n",
    "for i in range(1,10):\n",
    "    n = int(input())\n",
    "    if n > maxNum:\n",
    "        maxNum = n\n",
    "        maxOrder = i\n",
    "print(maxNum)\n",
    "print(maxOrder)\n"
   ]
  },
  {
   "cell_type": "code",
   "execution_count": 18,
   "metadata": {},
   "outputs": [
    {
     "name": "stdout",
     "output_type": "stream",
     "text": [
      "3\n",
      "29\n",
      "38\n",
      "12\n",
      "57\n",
      "74\n",
      "40\n",
      "85\n",
      "61\n",
      "85 \n",
      " 8\n"
     ]
    }
   ],
   "source": [
    "#2 list 로 모은다음에 sorted 로 정렬\n",
    "\n",
    "li = []\n",
    "for i in range(1,10):\n",
    "    li.append((int(input()), i))\n",
    "sorted_li = sorted(li, key=lambda number: number[0])\n",
    "print(sorted_li[-1][0])\n",
    "print(sorted_li[-1][1])\n",
    "\n",
    "\n",
    "\n",
    "\n",
    "\n",
    "\n",
    "\n",
    "\n"
   ]
  },
  {
   "cell_type": "code",
   "execution_count": 22,
   "metadata": {},
   "outputs": [
    {
     "name": "stdout",
     "output_type": "stream",
     "text": [
      "3\n",
      "29\n",
      "38\n",
      "12\n",
      "57\n",
      "74\n",
      "40\n",
      "85\n",
      "61\n",
      "85 8\n"
     ]
    }
   ],
   "source": [
    "l = [int(input()) for i in range(9)]\n",
    "print(max(l), l.index(max(l))+1)"
   ]
  },
  {
   "cell_type": "code",
   "execution_count": 30,
   "metadata": {},
   "outputs": [
    {
     "name": "stdout",
     "output_type": "stream",
     "text": [
      "150\n",
      "266\n",
      "427\n",
      "3\n",
      "1\n",
      "0\n",
      "2\n",
      "0\n",
      "0\n",
      "0\n",
      "2\n",
      "0\n",
      "0\n"
     ]
    }
   ],
   "source": [
    "# 2577 숫자의 개수\n",
    "a = int(input())\n",
    "b = int(input())\n",
    "c = int(input())\n",
    "\n",
    "result = str(a*b*c)\n",
    "for i in range(10):\n",
    "    print(result.count(str(i)))\n",
    "\n",
    "\n",
    "\n",
    "\n",
    "\n",
    "\n",
    "\n"
   ]
  },
  {
   "cell_type": "code",
   "execution_count": 26,
   "metadata": {},
   "outputs": [
    {
     "data": {
      "text/plain": [
       "0"
      ]
     },
     "execution_count": 26,
     "metadata": {},
     "output_type": "execute_result"
    }
   ],
   "source": [
    "sam = '17037300'\n",
    "\n",
    "sam.count('4')"
   ]
  },
  {
   "cell_type": "code",
   "execution_count": 2,
   "metadata": {},
   "outputs": [
    {
     "name": "stdout",
     "output_type": "stream",
     "text": [
      "39\n",
      "40\n",
      "41\n",
      "42\n",
      "43\n",
      "44\n",
      "82\n",
      "83\n",
      "84\n",
      "85\n",
      "6\n"
     ]
    }
   ],
   "source": [
    "# 3052 나머지\n",
    "\n",
    "remainder_list = []\n",
    "different_number = 0\n",
    "\n",
    "for i in range(10):\n",
    "    n = int(input())\n",
    "    remainder = n % 42\n",
    "    if remainder not in remainder_list:\n",
    "        different_number += 1\n",
    "        remainder_list.append(remainder)\n",
    "print(different_number)\n",
    "\n",
    "\n",
    "\n"
   ]
  },
  {
   "cell_type": "code",
   "execution_count": 4,
   "metadata": {},
   "outputs": [
    {
     "name": "stdout",
     "output_type": "stream",
     "text": [
      "39\n",
      "40\n",
      "41\n",
      "42\n",
      "43\n",
      "44\n",
      "82\n",
      "83\n",
      "84\n",
      "85\n",
      "6\n"
     ]
    }
   ],
   "source": [
    "# 다른사람 풀이\n",
    "b = [int(input())%42 for i in range(10)]\n",
    "print(len(set(b)))"
   ]
  },
  {
   "cell_type": "code",
   "execution_count": 6,
   "metadata": {},
   "outputs": [
    {
     "name": "stdout",
     "output_type": "stream",
     "text": [
      "3\n",
      "10 20 30\n",
      "66.66666666666666\n"
     ]
    }
   ],
   "source": [
    "# 1546 평균\n",
    "\n",
    "n = int(input())\n",
    "li = list(map(int,input().split()))\n",
    "print(sum(li)/max(li)/n*100)"
   ]
  },
  {
   "cell_type": "code",
   "execution_count": 12,
   "metadata": {},
   "outputs": [
    {
     "name": "stdout",
     "output_type": "stream",
     "text": [
      "5\n",
      "OOXXOXXOOO\n",
      "i 0\n",
      "count0 1\n",
      "point 1\n",
      "i 1\n",
      "count0 2\n",
      "point 3\n",
      "i 4\n",
      "count0 1\n",
      "point 4\n",
      "i 7\n",
      "count0 1\n",
      "point 5\n",
      "i 8\n",
      "count0 2\n",
      "point 7\n",
      "i 9\n",
      "count0 3\n",
      "point 10\n",
      "10\n",
      "OOXXOOXXOO\n",
      "i 0\n",
      "count0 1\n",
      "point 1\n",
      "i 1\n",
      "count0 2\n",
      "point 3\n",
      "i 4\n",
      "count0 1\n",
      "point 4\n",
      "i 5\n",
      "count0 2\n",
      "point 6\n",
      "i 8\n",
      "count0 1\n",
      "point 7\n",
      "i 9\n",
      "count0 2\n",
      "point 9\n",
      "9\n",
      "OXOXOXOXOXOXOX\n",
      "i 0\n",
      "count0 1\n",
      "point 1\n",
      "i 2\n",
      "count0 1\n",
      "point 2\n",
      "i 4\n",
      "count0 1\n",
      "point 3\n",
      "i 6\n",
      "count0 1\n",
      "point 4\n",
      "i 8\n",
      "count0 1\n",
      "point 5\n",
      "i 10\n",
      "count0 1\n",
      "point 6\n",
      "i 12\n",
      "count0 1\n",
      "point 7\n",
      "7\n",
      "OOOOOOOOOO\n",
      "i 0\n",
      "count0 1\n",
      "point 1\n",
      "i 1\n",
      "count0 2\n",
      "point 3\n",
      "i 2\n",
      "count0 3\n",
      "point 6\n",
      "i 3\n",
      "count0 4\n",
      "point 10\n",
      "i 4\n",
      "count0 5\n",
      "point 15\n",
      "i 5\n",
      "count0 6\n",
      "point 21\n",
      "i 6\n",
      "count0 7\n",
      "point 28\n",
      "i 7\n",
      "count0 8\n",
      "point 36\n",
      "i 8\n",
      "count0 9\n",
      "point 45\n",
      "i 9\n",
      "count0 10\n",
      "point 55\n",
      "55\n",
      "OOOOXOOOOXOOOOX\n",
      "i 0\n",
      "count0 1\n",
      "point 1\n",
      "i 1\n",
      "count0 2\n",
      "point 3\n",
      "i 2\n",
      "count0 3\n",
      "point 6\n",
      "i 3\n",
      "count0 4\n",
      "point 10\n",
      "i 5\n",
      "count0 1\n",
      "point 11\n",
      "i 6\n",
      "count0 2\n",
      "point 13\n",
      "i 7\n",
      "count0 3\n",
      "point 16\n",
      "i 8\n",
      "count0 4\n",
      "point 20\n",
      "i 10\n",
      "count0 1\n",
      "point 21\n",
      "i 11\n",
      "count0 2\n",
      "point 23\n",
      "i 12\n",
      "count0 3\n",
      "point 26\n",
      "i 13\n",
      "count0 4\n",
      "point 30\n",
      "30\n"
     ]
    }
   ],
   "source": [
    "# 8958 OX퀴즈\n",
    "\n",
    "n = int(input())\n",
    "\n",
    "count_o = 0\n",
    "point = 0\n",
    "ox = ''\n",
    "for i in range(n):\n",
    "    ox = input()\n",
    "    for i in range(len(ox)):\n",
    "        if ox[i] == 'O':\n",
    "            count_o += 1\n",
    "            point += count_o\n",
    "            print('i',i)\n",
    "            print('count0', count_o)\n",
    "            print('point',point)\n",
    "        else:\n",
    "            count_o = 0\n",
    "    print(point)\n",
    "    point = 0\n",
    "    count_o = 0\n",
    "\n"
   ]
  },
  {
   "cell_type": "code",
   "execution_count": 7,
   "metadata": {},
   "outputs": [
    {
     "data": {
      "text/plain": [
       "3"
      ]
     },
     "execution_count": 7,
     "metadata": {},
     "output_type": "execute_result"
    }
   ],
   "source": [
    "len('abc')"
   ]
  },
  {
   "cell_type": "code",
   "execution_count": 30,
   "metadata": {},
   "outputs": [
    {
     "name": "stdout",
     "output_type": "stream",
     "text": [
      "1\n",
      "3 70 90 81\n",
      "66.667%\n"
     ]
    }
   ],
   "source": [
    "# 4344 평균은 넘겠지\n",
    "\n",
    "n = int(input())\n",
    "\n",
    "\n",
    "for i in range(n):\n",
    "    li = list(map(int, input().split()))\n",
    "    students = li[0]\n",
    "    points = li[1:]\n",
    "    avg = sum(points)/students\n",
    "    upper_students = [i for student in points if student > avg]\n",
    "    print(format(len(upper_students)/students*100,'.3f') + '%')\n"
   ]
  },
  {
   "cell_type": "code",
   "execution_count": 22,
   "metadata": {},
   "outputs": [
    {
     "data": {
      "text/plain": [
       "'20.000'"
      ]
     },
     "execution_count": 22,
     "metadata": {},
     "output_type": "execute_result"
    }
   ],
   "source": [
    "format(2000/100,\".3f\")"
   ]
  },
  {
   "cell_type": "code",
   "execution_count": 14,
   "metadata": {},
   "outputs": [
    {
     "data": {
      "text/plain": [
       "1.111"
      ]
     },
     "execution_count": 14,
     "metadata": {},
     "output_type": "execute_result"
    }
   ],
   "source": [
    "round(1.1111111,3)"
   ]
  },
  {
   "cell_type": "code",
   "execution_count": 26,
   "metadata": {},
   "outputs": [
    {
     "ename": "TypeError",
     "evalue": "'str' object cannot be interpreted as an integer",
     "output_type": "error",
     "traceback": [
      "\u001b[0;31m---------------------------------------------------------------------------\u001b[0m",
      "\u001b[0;31mTypeError\u001b[0m                                 Traceback (most recent call last)",
      "\u001b[0;32m<ipython-input-26-3998fe33edc8>\u001b[0m in \u001b[0;36m<module>\u001b[0;34m\u001b[0m\n\u001b[0;32m----> 1\u001b[0;31m \u001b[0mprint\u001b[0m\u001b[0;34m(\u001b[0m\u001b[0mformat\u001b[0m\u001b[0;34m(\u001b[0m\u001b[0mround\u001b[0m\u001b[0;34m(\u001b[0m\u001b[0;36m10\u001b[0m\u001b[0;34m/\u001b[0m\u001b[0;36m20\u001b[0m\u001b[0;34m*\u001b[0m\u001b[0;36m100\u001b[0m\u001b[0;34m,\u001b[0m\u001b[0;34m'.3f'\u001b[0m\u001b[0;34m)\u001b[0m\u001b[0;34m)\u001b[0m\u001b[0;34m)\u001b[0m\u001b[0;34m\u001b[0m\u001b[0;34m\u001b[0m\u001b[0m\n\u001b[0m",
      "\u001b[0;31mTypeError\u001b[0m: 'str' object cannot be interpreted as an integer"
     ]
    }
   ],
   "source": [
    "print(format(round(10/20*100,'.3f')))"
   ]
  },
  {
   "cell_type": "code",
   "execution_count": null,
   "metadata": {},
   "outputs": [],
   "source": []
  },
  {
   "cell_type": "code",
   "execution_count": null,
   "metadata": {},
   "outputs": [],
   "source": []
  },
  {
   "cell_type": "code",
   "execution_count": null,
   "metadata": {},
   "outputs": [],
   "source": []
  },
  {
   "cell_type": "code",
   "execution_count": null,
   "metadata": {},
   "outputs": [],
   "source": []
  }
 ],
 "metadata": {
  "kernelspec": {
   "display_name": "Python 3",
   "language": "python",
   "name": "python3"
  },
  "language_info": {
   "codemirror_mode": {
    "name": "ipython",
    "version": 3
   },
   "file_extension": ".py",
   "mimetype": "text/x-python",
   "name": "python",
   "nbconvert_exporter": "python",
   "pygments_lexer": "ipython3",
   "version": "3.7.7"
  }
 },
 "nbformat": 4,
 "nbformat_minor": 4
}
